{
  "nbformat": 4,
  "nbformat_minor": 0,
  "metadata": {
    "colab": {
      "provenance": []
    },
    "kernelspec": {
      "name": "python3",
      "display_name": "Python 3"
    },
    "language_info": {
      "name": "python"
    }
  },
  "cells": [
    {
      "cell_type": "markdown",
      "source": [
        "#8"
      ],
      "metadata": {
        "id": "b_EPR1qgzVRn"
      }
    },
    {
      "cell_type": "code",
      "source": [
        "contraseña = input(\"Ingresa tu contraseña \")\n",
        "\n",
        "if len(contraseña) < 8:\n",
        "    print(\"Contraseña inválida: debe tener mínimo 8 caracteres\")\n",
        "elif not any(c.isupper() for c in contraseña):\n",
        "    print(\"Contraseña inválida: debe tener al menos una letra mayúscula\")\n",
        "elif not any(c.isdigit() for c in contraseña):\n",
        "    print(\"Contraseña inválida: debe tener al menos un número\")\n",
        "else:\n",
        "    print(\"Contraseña válida\")"
      ],
      "metadata": {
        "colab": {
          "base_uri": "https://localhost:8080/"
        },
        "id": "P_cUvl35zU9X",
        "outputId": "cf1bc2ff-5c28-4f19-dd46-bfab71e8b477"
      },
      "execution_count": 37,
      "outputs": [
        {
          "output_type": "stream",
          "name": "stdout",
          "text": [
            "Ingresa tu contraseña x a<lkaniw\n",
            "Contraseña inválida: debe tener al menos una letra mayúscula\n"
          ]
        }
      ]
    },
    {
      "cell_type": "code",
      "source": [
        "contraseña = input(\"Ingresa tu contraseña \")\n",
        "\n",
        "if len(contraseña) >= 8 and any(c.isupper() for c in contraseña) and any(c.isdigit() for c in contraseña):\n",
        "    print(\"Contraseña válida\")\n",
        "else:\n",
        "    print(\"Contraseña inválida, no cumple con las condiciones\")"
      ],
      "metadata": {
        "colab": {
          "base_uri": "https://localhost:8080/"
        },
        "id": "MbtCL8UYzUro",
        "outputId": "d4085d22-6a52-4cec-da06-ce2c8eb90edf"
      },
      "execution_count": 38,
      "outputs": [
        {
          "output_type": "stream",
          "name": "stdout",
          "text": [
            "Ingresa tu contraseña Adiaz1001\n",
            "Contraseña válida\n"
          ]
        }
      ]
    },
    {
      "cell_type": "code",
      "source": [
        "print(\"Contraseña válida\")if len(contraseña) >= 8 and any(c.isupper() for c in contraseña) and any(c.isdigit() for c in contraseña) else print(\"Contraseña inválida, no cumple con las condiciones\")"
      ],
      "metadata": {
        "colab": {
          "base_uri": "https://localhost:8080/"
        },
        "id": "JNE5MGLVzeGY",
        "outputId": "b2789f83-1bf7-4f00-f1d6-0d3aad7c3d65"
      },
      "execution_count": 39,
      "outputs": [
        {
          "output_type": "stream",
          "name": "stdout",
          "text": [
            "Contraseña válida\n"
          ]
        }
      ]
    },
    {
      "cell_type": "markdown",
      "source": [
        "#9"
      ],
      "metadata": {
        "id": "V5FbE6cYzVqv"
      }
    },
    {
      "cell_type": "code",
      "source": [
        "numero = int(input(\"ingrese un numero de su agrado \"))\n",
        "\n",
        "if numero%3 == 0 and numero%5 == 0:\n",
        "  print(\"FizzBuzz\")\n",
        "else:\n",
        "  if numero%3 == 0:\n",
        "    print(\"Fizz\")\n",
        "  elif numero%5 == 0:\n",
        "    print(\"Buzz\")\n",
        "  else:\n",
        "    print(\"el numero no es divisible entre 3 ni entre 5\")"
      ],
      "metadata": {
        "colab": {
          "base_uri": "https://localhost:8080/"
        },
        "id": "woVL42twzWi_",
        "outputId": "9208daa1-2d35-49fc-b72b-7cc67aecba25"
      },
      "execution_count": 43,
      "outputs": [
        {
          "output_type": "stream",
          "name": "stdout",
          "text": [
            "ingrese un numero de su agrado 15\n",
            "FizzBuzz\n"
          ]
        }
      ]
    },
    {
      "cell_type": "code",
      "source": [
        "numero = int(input(\"Ingrese un número de su agrado: \"))\n",
        "\n",
        "if numero % 3 == 0 and numero % 5 == 0:\n",
        "    print(\"FizzBuzz\")\n",
        "else:\n",
        "    if numero % 3 == 0:\n",
        "        print(\"Fizz\")\n",
        "    else:\n",
        "        if numero % 5 == 0:\n",
        "            print(\"Buzz\")\n",
        "        else:\n",
        "            print(\"El número no es divisible entre 3 ni entre 5\")"
      ],
      "metadata": {
        "colab": {
          "base_uri": "https://localhost:8080/"
        },
        "id": "Oh1qzJyZzV-3",
        "outputId": "32652040-8037-4311-e8de-059beaa1ae86"
      },
      "execution_count": 41,
      "outputs": [
        {
          "output_type": "stream",
          "name": "stdout",
          "text": [
            "Ingrese un número de su agrado: 3\n",
            "Fizz\n"
          ]
        }
      ]
    },
    {
      "cell_type": "code",
      "source": [
        "print(\"FizzBuzz\") if numero % 3 == 0 and numero % 5 == 0 else print(\"Fizz\")if numero % 3 == 0 else print(\"Buzz\")if numero % 5 == 0 else print(\"El número no es divisible entre 3 ni entre 5\")"
      ],
      "metadata": {
        "colab": {
          "base_uri": "https://localhost:8080/"
        },
        "id": "as08_L8jzWO_",
        "outputId": "7d9cb7f5-ae44-4b5a-c59d-8c88326322fb"
      },
      "execution_count": 42,
      "outputs": [
        {
          "output_type": "stream",
          "name": "stdout",
          "text": [
            "Fizz\n"
          ]
        }
      ]
    },
    {
      "cell_type": "markdown",
      "source": [
        "#10"
      ],
      "metadata": {
        "id": "k8jaZUPxzWyO"
      }
    },
    {
      "cell_type": "code",
      "source": [
        "ClavePredeterminada= 2624\n",
        "Disponible= 10000000\n",
        "\n",
        "clave= int(input(\"ingrese la clave\"))\n",
        "if clave == ClavePredeterminada:\n",
        "  dinero = int(input(\"que valor desea retirar\"))\n",
        "  if dinero<= Disponible:\n",
        "    print(\"ha retirado correctamente\", dinero)\n",
        "  else:\n",
        "    print(\"saldo insuficiente\")\n",
        "else:\n",
        "  print(\"clave incorrecta\")"
      ],
      "metadata": {
        "colab": {
          "base_uri": "https://localhost:8080/"
        },
        "id": "mQXCTNznzXim",
        "outputId": "33ddd571-3f8c-4b92-caee-8f5928dcfdb0"
      },
      "execution_count": 34,
      "outputs": [
        {
          "output_type": "stream",
          "name": "stdout",
          "text": [
            "ingrese la clave2624\n",
            "que valor desea retirar1000\n",
            "ha retirado correctamente 1000\n"
          ]
        }
      ]
    },
    {
      "cell_type": "code",
      "source": [
        "ClavePredeterminada= 2624\n",
        "Disponible= 10000000\n",
        "\n",
        "clave= int(input(\"ingrese su clave\"))\n",
        "\n",
        "if clave!=ClavePredeterminada:\n",
        "  print(\"clave incorrecta\")\n",
        "elif clave== ClavePredeterminada:\n",
        "    dinero= int(input(\"ingrse la cantidad que desea retirar\"))\n",
        "    if dinero<= Disponible:\n",
        "      print(\"ha retirado correctamente\", dinero)\n",
        "    else:\n",
        "      print(\"saldo insuficiente\")"
      ],
      "metadata": {
        "colab": {
          "base_uri": "https://localhost:8080/"
        },
        "id": "N37zTdoUzXfW",
        "outputId": "0474389a-ac67-4082-edf4-0a56a676939f"
      },
      "execution_count": 35,
      "outputs": [
        {
          "output_type": "stream",
          "name": "stdout",
          "text": [
            "ingrese su clave1000\n",
            "clave incorrecta\n"
          ]
        }
      ]
    },
    {
      "cell_type": "code",
      "source": [
        "print(\"Ha retirado correctamente\", dinero) if clave==ClavePredeterminada and (dinero:=int(input(\"¿Qué valor desea retirar?\")))<=Disponible else print(\"Saldo insuficiente\") if clave==ClavePredeterminada else print(\"Clave incorrecta\")"
      ],
      "metadata": {
        "colab": {
          "base_uri": "https://localhost:8080/"
        },
        "id": "7lYrKVpLzXJn",
        "outputId": "49a08c5c-cc16-46d9-91cc-c28b71da3873"
      },
      "execution_count": 36,
      "outputs": [
        {
          "output_type": "stream",
          "name": "stdout",
          "text": [
            "Clave incorrecta\n"
          ]
        }
      ]
    }
  ]
}