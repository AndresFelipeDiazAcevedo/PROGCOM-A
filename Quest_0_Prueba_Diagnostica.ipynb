{
  "nbformat": 4,
  "nbformat_minor": 0,
  "metadata": {
    "colab": {
      "provenance": []
    },
    "kernelspec": {
      "name": "python3",
      "display_name": "Python 3"
    },
    "language_info": {
      "name": "python"
    }
  },
  "cells": [
    {
      "cell_type": "markdown",
      "source": [
        "# Prueba diagnostica\n",
        "\n",
        "\n"
      ],
      "metadata": {
        "id": "XyGl18qiKOEY"
      }
    },
    {
      "cell_type": "markdown",
      "source": [
        "## Estructuras de seleccion\n",
        "Aqui se desarrolara el ejercicio sobre estructuras de seleccion\n",
        "\n",
        "\n",
        "\n",
        "```\n",
        "si (condicion) entonces:\n",
        "  pasan cosas divertidas\n",
        "sino\n",
        "  llorelo\n",
        "```\n",
        "Por algoritmia\n",
        "1. solicito la variable y almaceno en a\n",
        "2. comparo esa variable con la otra llamada b\n"
      ],
      "metadata": {
        "id": "818rbGObLkc2"
      }
    }
  ]
}