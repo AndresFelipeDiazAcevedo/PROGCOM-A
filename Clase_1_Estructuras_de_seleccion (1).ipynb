{
  "nbformat": 4,
  "nbformat_minor": 0,
  "metadata": {
    "colab": {
      "provenance": []
    },
    "kernelspec": {
      "name": "python3",
      "display_name": "Python 3"
    },
    "language_info": {
      "name": "python"
    }
  },
  "cells": [
    {
      "cell_type": "markdown",
      "source": [
        "# ESTRUCTURAS DE SELECCION\n",
        "\n",
        "Se emplean cuando se debe evaluar una condicion y esta da una condicion de verdad (V) o (F).\n"
      ],
      "metadata": {
        "id": "AXFsqIDetfhu"
      }
    },
    {
      "cell_type": "markdown",
      "source": [
        "## Estructua if-else\n",
        "\n",
        "\n",
        "\n",
        "```\n",
        "if condicion:\n",
        "   entro aqui, si la condicion es verdadera\n",
        "else:\n",
        "   entro aqui, si la condicion es falsa\n",
        "```"
      ],
      "metadata": {
        "id": "V-4tkiwXt_Xd"
      }
    },
    {
      "cell_type": "code",
      "execution_count": 7,
      "metadata": {
        "colab": {
          "base_uri": "https://localhost:8080/"
        },
        "id": "Jsppp8essKmi",
        "outputId": "e12b0585-2eac-458d-80e3-b0b89c550932"
      },
      "outputs": [
        {
          "output_type": "stream",
          "name": "stdout",
          "text": [
            "ingrese un numero 15\n",
            "15 es un numero positivo\n"
          ]
        }
      ],
      "source": [
        "#Escriba un programa que reciba un numero e indique si es positiva\n",
        "n=int(input(\"ingrese un numero \"))\n",
        "\n",
        "if n>0:\n",
        "  print(f\"{n} es un numero positivo\")\n",
        "else:\n",
        "  print(f\"{n} No es un numero positivo\")\n"
      ]
    },
    {
      "cell_type": "markdown",
      "source": [
        "##Seleccion multiple if elif else\n",
        "\n",
        "\n",
        "\n",
        "```\n",
        "if (condicion 1):\n",
        "   si se cumple condicion 1, entro aqui\n",
        "elif (condicion 2):\n",
        "  no se cumple la 1 pero si la 2, entro aqui\n",
        "else:\n",
        "   no se cumple ninguna\n",
        "\n"
      ],
      "metadata": {
        "id": "kPq1i7ea0R_o"
      }
    },
    {
      "cell_type": "code",
      "source": [
        "n=int(input(\"ingrese un numero \"))\n",
        "\n",
        "if n>0:\n",
        "  print(f\"{n} es un numero positivo\")\n",
        "elif n<0:\n",
        "  print(f\"{n} No es un numero positivo\")\n",
        "else:\n",
        "  print(f\"{n} es 0, osea neutro\")"
      ],
      "metadata": {
        "colab": {
          "base_uri": "https://localhost:8080/"
        },
        "id": "L5NbtvuA0aYI",
        "outputId": "a3d8b53d-64fe-4b94-c313-0381e12e0b79"
      },
      "execution_count": 5,
      "outputs": [
        {
          "output_type": "stream",
          "name": "stdout",
          "text": [
            "ingrese un numero 0\n",
            "0 es 0\n"
          ]
        }
      ]
    },
    {
      "cell_type": "markdown",
      "source": [
        "## Operador terniario\n",
        "\n",
        "Se usa cuando hay una condicion a evaluar simple y se desea resolver en una linea de codigo\n",
        "\n",
        "\n",
        "```\n",
        "(valor de vrd) if (condicion) else (valor de falso)\n",
        "```\n",
        "\n"
      ],
      "metadata": {
        "id": "IMOg6lX42HLQ"
      }
    },
    {
      "cell_type": "code",
      "source": [
        "print(f\"{n} es un numero positivo\") if n>0 else print(f\"{n} No es un numero positivo\")"
      ],
      "metadata": {
        "colab": {
          "base_uri": "https://localhost:8080/"
        },
        "id": "V7KnkL2K21gm",
        "outputId": "271e3b88-6d58-4064-b2d7-7525629280c6"
      },
      "execution_count": 9,
      "outputs": [
        {
          "output_type": "stream",
          "name": "stdout",
          "text": [
            "15 es un numero positivo\n"
          ]
        }
      ]
    },
    {
      "cell_type": "code",
      "source": [
        "a=f\"{n} es un numero positivo\" if n>0 else f\"{n} No es un numero positivo\"\n",
        "print(a)"
      ],
      "metadata": {
        "colab": {
          "base_uri": "https://localhost:8080/"
        },
        "id": "gVrLbj__4Fr1",
        "outputId": "85fd9566-b184-4efb-b70c-b1d92758f55f"
      },
      "execution_count": 11,
      "outputs": [
        {
          "output_type": "stream",
          "name": "stdout",
          "text": [
            "15 es un numero positivo\n"
          ]
        }
      ]
    },
    {
      "cell_type": "markdown",
      "source": [
        "##  2"
      ],
      "metadata": {
        "id": "oHevIqeM7AeD"
      }
    },
    {
      "cell_type": "code",
      "source": [
        "n = int(input(\"Ingrese su edad en numero \"))\n",
        "if n >= 18:\n",
        "  print(\"es mayor de edad\")\n",
        "else:\n",
        "  print(\"es menor de edad\")\n",
        ""
      ],
      "metadata": {
        "id": "6sntOSYI7B_i"
      },
      "execution_count": null,
      "outputs": []
    },
    {
      "cell_type": "code",
      "source": [
        "n = int(input(\"Ingrese su edad en numero \"))\n",
        "if n >= 21:\n",
        "  print(\"es mayor de edad en todos los paises del mundo\")\n",
        "elif n>=18:\n",
        "  print(\"es mayor de edad en colombia\")\n",
        "else:\n",
        "  print(\"es menor de edad\")\n",
        ""
      ],
      "metadata": {
        "colab": {
          "base_uri": "https://localhost:8080/"
        },
        "id": "s6KHRTgn7C46",
        "outputId": "c9d940a6-2f35-4c71-c9e6-2dccb5bd11f5"
      },
      "execution_count": 20,
      "outputs": [
        {
          "output_type": "stream",
          "name": "stdout",
          "text": [
            "Ingrese su edad en numero 19\n",
            "es mayor de edad en colombia\n"
          ]
        }
      ]
    },
    {
      "cell_type": "code",
      "source": [
        "print(\"es mayor de edad\")if n >= 18 else print(\"es menor de edad\")"
      ],
      "metadata": {
        "colab": {
          "base_uri": "https://localhost:8080/"
        },
        "id": "W0xbBLPr9E8R",
        "outputId": "1e775aa9-7878-4147-d6ac-0d89aeb3d916"
      },
      "execution_count": 21,
      "outputs": [
        {
          "output_type": "stream",
          "name": "stdout",
          "text": [
            "es mayor de edad\n"
          ]
        }
      ]
    },
    {
      "cell_type": "markdown",
      "source": [
        "## 3"
      ],
      "metadata": {
        "id": "Fgp2sgC99N_x"
      }
    },
    {
      "cell_type": "code",
      "source": [
        "a = int(input(\"ingrese el primer numero \"))\n",
        "b = int(input(\"ingrese el segundo numero \"))\n",
        "\n",
        "if a > b:\n",
        "  print(\"a es mayor\")\n",
        "else:\n",
        "  print(\"b es mayor\")"
      ],
      "metadata": {
        "colab": {
          "base_uri": "https://localhost:8080/"
        },
        "id": "Qmp6431b9TVI",
        "outputId": "6756a2d0-d00e-4fbd-8074-69e52607b389"
      },
      "execution_count": 22,
      "outputs": [
        {
          "output_type": "stream",
          "name": "stdout",
          "text": [
            "ingrese el primer numero 2\n",
            "ingrese el segundo numero 4\n",
            "b es mayor\n"
          ]
        }
      ]
    },
    {
      "cell_type": "code",
      "source": [
        "a = int(input(\"ingrese el primer numero \"))\n",
        "b = int(input(\"ingrese el segundo numero \"))\n",
        "\n",
        "if a > b:\n",
        "  print(\"a es mayor\")\n",
        "elif a == b:\n",
        "  print(\"son iguales\")\n",
        "else:\n",
        "  print(\"b es mayor\")"
      ],
      "metadata": {
        "colab": {
          "base_uri": "https://localhost:8080/"
        },
        "id": "uAyXRyPA9c8g",
        "outputId": "72466817-3750-4656-8490-9c2c290fc0fc"
      },
      "execution_count": 24,
      "outputs": [
        {
          "output_type": "stream",
          "name": "stdout",
          "text": [
            "ingrese el primer numero 2\n",
            "ingrese el segundo numero 2\n",
            "son iguales\n"
          ]
        }
      ]
    },
    {
      "cell_type": "code",
      "source": [
        "print(\"a es mayor\")if a > b else print(\"b es mayor\")"
      ],
      "metadata": {
        "colab": {
          "base_uri": "https://localhost:8080/"
        },
        "id": "xbhdlJpC9sIw",
        "outputId": "4b4318fd-bbf4-4fdf-aa41-1fa7a5ed5a7b"
      },
      "execution_count": 26,
      "outputs": [
        {
          "output_type": "stream",
          "name": "stdout",
          "text": [
            "b es mayor\n"
          ]
        }
      ]
    },
    {
      "cell_type": "markdown",
      "source": [
        "##4"
      ],
      "metadata": {
        "id": "S9sud8MX95_I"
      }
    },
    {
      "cell_type": "code",
      "source": [
        "calificacion = int(input(\"ingrese su calificacion en numero \"))\n",
        "if calificacion >= 60:\n",
        "  print(\"APROBADO\")\n",
        "else:\n",
        "  print(\"REPROBADO\")"
      ],
      "metadata": {
        "colab": {
          "base_uri": "https://localhost:8080/"
        },
        "id": "CosmjfCX97Co",
        "outputId": "831dc134-3a9f-4542-9d40-aaadb3f41933"
      },
      "execution_count": 33,
      "outputs": [
        {
          "output_type": "stream",
          "name": "stdout",
          "text": [
            "ingrese su calificacion en numero 60\n",
            "APROBADO\n"
          ]
        }
      ]
    },
    {
      "cell_type": "code",
      "source": [
        "calificacion = int(input(\"ingrese su calificacion en numero \"))\n",
        "if calificacion >90:\n",
        "  print(\"APROBADO CON HONORES\")\n",
        "elif calificacion >= 60:\n",
        "  print(\"APROBADO\")\n",
        "else:\n",
        "  print(\"REPROBADO\")"
      ],
      "metadata": {
        "colab": {
          "base_uri": "https://localhost:8080/"
        },
        "id": "M2wUmsrs99oI",
        "outputId": "892b95b8-7ade-42c5-bb25-c82708f3c032"
      },
      "execution_count": 31,
      "outputs": [
        {
          "output_type": "stream",
          "name": "stdout",
          "text": [
            "ingrese su calificacion en numero 40\n",
            "REPROBADO\n"
          ]
        }
      ]
    },
    {
      "cell_type": "code",
      "source": [
        "print(\"APROBADO\") if calificacion >= 60 else print(\"REPROBADO\")"
      ],
      "metadata": {
        "colab": {
          "base_uri": "https://localhost:8080/"
        },
        "id": "Eotrl0Zv-Xqw",
        "outputId": "00c0c457-6e48-46a4-ed28-b1b94faac9f7"
      },
      "execution_count": 34,
      "outputs": [
        {
          "output_type": "stream",
          "name": "stdout",
          "text": [
            "APROBADO\n"
          ]
        }
      ]
    },
    {
      "cell_type": "markdown",
      "source": [
        "## 5"
      ],
      "metadata": {
        "id": "CKatcNfk-gG_"
      }
    },
    {
      "cell_type": "code",
      "source": [
        "a = int(input(\"ingrese un numero de su agrado \"))\n",
        "if a % 2:\n",
        "  print(\"el numero es impar\")\n",
        "else:\n",
        "  print(\"el numeor es par\")\n",
        ""
      ],
      "metadata": {
        "colab": {
          "base_uri": "https://localhost:8080/"
        },
        "id": "s09ZmnT--hAP",
        "outputId": "019604eb-3829-472e-964f-b3f44720690c"
      },
      "execution_count": 36,
      "outputs": [
        {
          "output_type": "stream",
          "name": "stdout",
          "text": [
            "ingrese un numero de su agrado 1444\n",
            "el numeor es par\n"
          ]
        }
      ]
    },
    {
      "cell_type": "code",
      "source": [
        "a = int(input(\"ingrese un numero de su agrado \"))\n",
        "if a % 2:\n",
        "  print(\"el numero es impar\")\n",
        "elif a == 0:\n",
        "  print(\"es 0 y puede ser par\")\n",
        "else:\n",
        "  print(\"el numeor es par\")\n",
        ""
      ],
      "metadata": {
        "colab": {
          "base_uri": "https://localhost:8080/"
        },
        "id": "3Bnvl_8J-jif",
        "outputId": "24ba85a2-07bc-4696-dfae-efe7324dbe5a"
      },
      "execution_count": 38,
      "outputs": [
        {
          "output_type": "stream",
          "name": "stdout",
          "text": [
            "ingrese un numero de su agrado 0\n",
            "es 0\n"
          ]
        }
      ]
    },
    {
      "cell_type": "code",
      "source": [
        "print(\"el numero es impar\")if a % 2 else print(\"el numeor es par\")"
      ],
      "metadata": {
        "colab": {
          "base_uri": "https://localhost:8080/"
        },
        "id": "wRVVtFja_lyH",
        "outputId": "de60b5d6-4d62-446a-f5aa-84445ab354c5"
      },
      "execution_count": 37,
      "outputs": [
        {
          "output_type": "stream",
          "name": "stdout",
          "text": [
            "el numeor es par\n"
          ]
        }
      ]
    },
    {
      "cell_type": "markdown",
      "source": [
        "## 6"
      ],
      "metadata": {
        "id": "TI5lkRli_8jX"
      }
    },
    {
      "cell_type": "code",
      "source": [
        "a = int(input(\"ingrese primer numero \"))\n",
        "b = int(input(\"ingrese segundo numero \"))\n",
        "c = int(input(\"ingrese tercer numero \"))\n",
        "\n",
        "if a > b and a > c:\n",
        "  print(\"a es el numero mayor\")\n",
        "elif b > a and b > c:\n",
        "  print(\"b es el numero mayor\")\n",
        "else:\n",
        "  print(\"c es el numero mayor\")"
      ],
      "metadata": {
        "colab": {
          "base_uri": "https://localhost:8080/"
        },
        "id": "FsnUJhjmAAXW",
        "outputId": "f24ded9c-c2ed-4c10-94bf-48338aa82b0c"
      },
      "execution_count": 51,
      "outputs": [
        {
          "output_type": "stream",
          "name": "stdout",
          "text": [
            "ingrese primer numero 2\n",
            "ingrese segundo numero 4\n",
            "ingrese tercer numero 6\n",
            "c es el numero mayor\n"
          ]
        }
      ]
    },
    {
      "cell_type": "code",
      "source": [
        "if a>b and a>c:\n",
        "  print(\"a es el mayor de los 3 numeros\")\n",
        "else:\n",
        "  if b>c:\n",
        "    print(\"b es el numero mayor\")\n",
        "  else:\n",
        "    print(\"c es el mayor\")"
      ],
      "metadata": {
        "id": "34CsmjoGABv2"
      },
      "execution_count": null,
      "outputs": []
    },
    {
      "cell_type": "code",
      "source": [
        "print(\"a es el mayor de los 3 numeros\") if a>b and a>c else print(\"b es el numero mayor\")if b>c else print(\"c es el mayor\")"
      ],
      "metadata": {
        "colab": {
          "base_uri": "https://localhost:8080/"
        },
        "id": "uUsFa5WqCWDd",
        "outputId": "06ea9deb-bc8c-44f5-8d49-b5eae7729e61"
      },
      "execution_count": 53,
      "outputs": [
        {
          "output_type": "stream",
          "name": "stdout",
          "text": [
            "c es el mayor\n"
          ]
        }
      ]
    },
    {
      "cell_type": "markdown",
      "source": [
        "## 7"
      ],
      "metadata": {
        "id": "iJakl39-__tW"
      }
    },
    {
      "cell_type": "code",
      "source": [
        "año = int(input(\"ingrese un año en numero \"))\n",
        "\n",
        "if año % 4 or 400 :\n",
        "  print(\"el año es bisiesto\")\n",
        "else:\n",
        "  print(\"el año no es bisiesto\")"
      ],
      "metadata": {
        "colab": {
          "base_uri": "https://localhost:8080/"
        },
        "id": "c_B1J818APT2",
        "outputId": "423d924d-7009-4f98-ffff-bcc4c3a4b4e5"
      },
      "execution_count": 47,
      "outputs": [
        {
          "output_type": "stream",
          "name": "stdout",
          "text": [
            "ingrese un año en numero 1600\n",
            "el año es bisiesto\n"
          ]
        }
      ]
    },
    {
      "cell_type": "code",
      "source": [
        "año = int(input(\"ingrese un año en numero \"))\n",
        "\n",
        "if año % 4 or 400 and año>2025:\n",
        "  print(\"el año no ha paasado peroooo sera bisiesto\")\n",
        "elif año % 4 or 400:\n",
        "  print(\"el año es bisiesto pero ya paso\")\n",
        "else:\n",
        "  print(\"el año no es bisiesto\")"
      ],
      "metadata": {
        "colab": {
          "base_uri": "https://localhost:8080/"
        },
        "id": "19GUJQ6vAQ3N",
        "outputId": "e75a3998-7bc0-4a2d-f4fd-b8a85f9bb6a8"
      },
      "execution_count": 48,
      "outputs": [
        {
          "output_type": "stream",
          "name": "stdout",
          "text": [
            "ingrese un año en numero 2400\n",
            "el año no ha paasado peroooo sera bisiesto\n"
          ]
        }
      ]
    },
    {
      "cell_type": "code",
      "source": [
        "print(\"el año es bisiesto\")if año % 4 or 400 else print(\"el año no es bisiesto\")"
      ],
      "metadata": {
        "colab": {
          "base_uri": "https://localhost:8080/"
        },
        "id": "7nZWKShSA9yd",
        "outputId": "a0f9cf73-3920-4446-aee0-f63bc8f37900"
      },
      "execution_count": 46,
      "outputs": [
        {
          "output_type": "stream",
          "name": "stdout",
          "text": [
            "el año es bisiesto\n"
          ]
        }
      ]
    }
  ]
}