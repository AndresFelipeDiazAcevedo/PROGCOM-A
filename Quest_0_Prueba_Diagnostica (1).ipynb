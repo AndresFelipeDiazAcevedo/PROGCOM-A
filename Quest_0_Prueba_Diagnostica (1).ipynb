{
  "nbformat": 4,
  "nbformat_minor": 0,
  "metadata": {
    "colab": {
      "provenance": []
    },
    "kernelspec": {
      "name": "python3",
      "display_name": "Python 3"
    },
    "language_info": {
      "name": "python"
    }
  },
  "cells": [
    {
      "cell_type": "markdown",
      "source": [
        "# Prueba diagnostica\n",
        "\n",
        "\n"
      ],
      "metadata": {
        "id": "XyGl18qiKOEY"
      }
    },
    {
      "cell_type": "markdown",
      "source": [
        "## Estructuras de seleccion\n",
        "Aqui se desarrolara el ejercicio sobre estructuras de seleccion\n",
        "\n",
        "\n",
        "\n",
        "```\n",
        "si (condicion) entonces:\n",
        "  pasan cosas divertidas\n",
        "sino\n",
        "  llorelo\n",
        "```\n",
        "Por algoritmia\n",
        "1. solicito la variable y almaceno en a\n",
        "2. comparo esa variable con la otra llamada b\n"
      ],
      "metadata": {
        "id": "818rbGObLkc2"
      }
    },
    {
      "cell_type": "markdown",
      "source": [
        "# ESTRUCTURAS DE DECISION"
      ],
      "metadata": {
        "id": "_uGNOHVlXDQD"
      }
    },
    {
      "cell_type": "markdown",
      "source": [
        "## PUNTO 1"
      ],
      "metadata": {
        "id": "k70I-gByV1mF"
      }
    },
    {
      "cell_type": "code",
      "source": [
        "numero = int(input(\"Ingrese un numero \"))\n",
        "if numero > 0:\n",
        "  print(\"es positivo\")\n",
        "elif numero < 0:\n",
        "  prin(\"es negativo\")\n",
        "else:\n",
        "  print(\"es 0, es decir neutro\")"
      ],
      "metadata": {
        "colab": {
          "base_uri": "https://localhost:8080/"
        },
        "id": "OWJmYbGvVtwN",
        "outputId": "7bbb3ffe-bbfe-4242-aa8b-97c9d9163f88"
      },
      "execution_count": 20,
      "outputs": [
        {
          "output_type": "stream",
          "name": "stdout",
          "text": [
            "Ingrese un numero 1\n",
            "es positivo\n"
          ]
        }
      ]
    },
    {
      "cell_type": "markdown",
      "source": [
        "## PUNTO 2"
      ],
      "metadata": {
        "id": "zVKP8KMEWmq8"
      }
    },
    {
      "cell_type": "code",
      "source": [
        "edad = int(input(\"Ingrese su edad en numero \"))\n",
        "if edad >= 18:\n",
        "  print(\"es mayor de edad\")\n",
        "else:\n",
        "  print(\"es menor de edad\")"
      ],
      "metadata": {
        "colab": {
          "base_uri": "https://localhost:8080/"
        },
        "id": "qc9E2tPjWqCk",
        "outputId": "fcff90ce-7c77-407f-bc62-28dd3dfc6d28"
      },
      "execution_count": 24,
      "outputs": [
        {
          "output_type": "stream",
          "name": "stdout",
          "text": [
            "Ingrese su edad en numero 19\n",
            "es mayor de edad\n"
          ]
        }
      ]
    },
    {
      "cell_type": "markdown",
      "source": [
        "## PUNTO 3"
      ],
      "metadata": {
        "id": "-mGqFsfdXAJ0"
      }
    },
    {
      "cell_type": "code",
      "source": [
        "a = int(input(\"ingrese el primer numero \"))\n",
        "b = int(input(\"ingrese el segundo numero \"))\n",
        "\n",
        "if a > b:\n",
        "  print(\"a es mayor\")\n",
        "else:\n",
        "  print(\"b es mayor\")"
      ],
      "metadata": {
        "colab": {
          "base_uri": "https://localhost:8080/"
        },
        "id": "wqQJ8fIFXI_L",
        "outputId": "106e62cf-220f-4cb9-e0ee-c4f0719a8700"
      },
      "execution_count": 27,
      "outputs": [
        {
          "output_type": "stream",
          "name": "stdout",
          "text": [
            "ingrese el primer numero 2\n",
            "ingrese el segundo numero 3\n",
            "b es mayor\n"
          ]
        }
      ]
    },
    {
      "cell_type": "markdown",
      "source": [
        "## PUNTO 4"
      ],
      "metadata": {
        "id": "eQmKFjTGXqaj"
      }
    },
    {
      "cell_type": "code",
      "source": [
        "calificacion = int(input(\"ingrese su calificacion en numero \"))\n",
        "if calificacion >= 60:\n",
        "  print(\"APROBADO\")\n",
        "else:\n",
        "  print(\"REPROBADO\")"
      ],
      "metadata": {
        "colab": {
          "base_uri": "https://localhost:8080/"
        },
        "id": "KHB0bxW0Xr_r",
        "outputId": "7ebf2e2b-541d-4138-a2e3-ed5626b5a170"
      },
      "execution_count": 28,
      "outputs": [
        {
          "output_type": "stream",
          "name": "stdout",
          "text": [
            "ingrese su calificacion en numero 70\n",
            "APROBADO\n"
          ]
        }
      ]
    },
    {
      "cell_type": "markdown",
      "source": [
        "##PUNTO 5"
      ],
      "metadata": {
        "id": "u3VwCMAgX_Ak"
      }
    },
    {
      "cell_type": "code",
      "source": [
        "a = int(input(\"ingrese un numero de su agrado \"))\n",
        "if a % 2:\n",
        "  print(\"el numero es impar\")\n",
        "else:\n",
        "  print(\"el numeor es par\")"
      ],
      "metadata": {
        "colab": {
          "base_uri": "https://localhost:8080/"
        },
        "id": "u9iVqPL2YCSj",
        "outputId": "7ebec26b-174f-49ec-e66e-d2f300e46b3e"
      },
      "execution_count": 35,
      "outputs": [
        {
          "output_type": "stream",
          "name": "stdout",
          "text": [
            "ingrese un numero de su agrado 150\n",
            "el numeor es par\n"
          ]
        }
      ]
    },
    {
      "cell_type": "markdown",
      "source": [
        "##PUNTO 6"
      ],
      "metadata": {
        "id": "IRsi6Pq_ZMXi"
      }
    },
    {
      "cell_type": "code",
      "source": [
        "a = int(input(\"ingrese primer numero \"))\n",
        "b = int(input(\"ingrese segundo numero \"))\n",
        "c = int(input(\"ingrese tercer numero \"))\n",
        "\n",
        "if a > b and a > c:\n",
        "  print(\"a es el numero mayor\")\n",
        "elif b > a and b > c:\n",
        "  print(\"b es el numero mayor\")\n",
        "else:\n",
        "  print(\"c es el numero mayor\")"
      ],
      "metadata": {
        "colab": {
          "base_uri": "https://localhost:8080/"
        },
        "id": "ezSrdTbLZNuJ",
        "outputId": "410a972c-29e4-46ab-d6a0-32c021bef781"
      },
      "execution_count": 39,
      "outputs": [
        {
          "output_type": "stream",
          "name": "stdout",
          "text": [
            "ingrese primer numero 5\n",
            "ingrese segundo numero 7\n",
            "ingrese tercer numero 6\n",
            "b es el numero mayor\n"
          ]
        }
      ]
    },
    {
      "cell_type": "markdown",
      "source": [
        "##PUNTO 7"
      ],
      "metadata": {
        "id": "x4wz0BcOZ-OJ"
      }
    },
    {
      "cell_type": "code",
      "source": [
        "año = int(input(\"ingrese un año en numero \"))\n",
        "\n",
        "if año % 4 :\n",
        "  print(\"el año es bisiesto\")\n",
        "else:\n",
        "  print(\"el año no es bisiesto\")"
      ],
      "metadata": {
        "colab": {
          "base_uri": "https://localhost:8080/"
        },
        "id": "-_gCxHK9Z_sI",
        "outputId": "30b701dd-5748-49fd-d337-e587658f3b36"
      },
      "execution_count": 43,
      "outputs": [
        {
          "output_type": "stream",
          "name": "stdout",
          "text": [
            "ingrese un año en numero 2022\n",
            "el año es bisiesto\n"
          ]
        }
      ]
    },
    {
      "cell_type": "markdown",
      "source": [
        "#ESTRUCTURAS DE REPETICION"
      ],
      "metadata": {
        "id": "sMK1DfPkbPIP"
      }
    },
    {
      "cell_type": "markdown",
      "source": [
        "##PUNTO 1"
      ],
      "metadata": {
        "id": "WsxY9Aq3bT5o"
      }
    },
    {
      "cell_type": "code",
      "source": [
        "contador = 1\n",
        "\n",
        "while contador <= 10:\n",
        "    print(contador)\n",
        "    contador += 1"
      ],
      "metadata": {
        "colab": {
          "base_uri": "https://localhost:8080/"
        },
        "collapsed": true,
        "id": "_c2oYshwbSDv",
        "outputId": "d2606f90-43a6-43c1-a212-314d020d7fc3"
      },
      "execution_count": 53,
      "outputs": [
        {
          "output_type": "stream",
          "name": "stdout",
          "text": [
            "1\n",
            "2\n",
            "3\n",
            "4\n",
            "5\n",
            "6\n",
            "7\n",
            "8\n",
            "9\n",
            "10\n"
          ]
        }
      ]
    },
    {
      "cell_type": "markdown",
      "source": [
        "##PUNTO 2"
      ],
      "metadata": {
        "id": "uPQRA8PicPHP"
      }
    },
    {
      "cell_type": "code",
      "source": [
        "contador = 1\n",
        "suma = 0\n",
        "while contador <= 100:\n",
        "    suma+= contador\n",
        "    print(suma)\n",
        "    contador += 1"
      ],
      "metadata": {
        "colab": {
          "base_uri": "https://localhost:8080/"
        },
        "collapsed": true,
        "id": "QQAHDXiTcRJ_",
        "outputId": "ec37afb0-6149-49df-ca2f-b945bc99e765"
      },
      "execution_count": 58,
      "outputs": [
        {
          "output_type": "stream",
          "name": "stdout",
          "text": [
            "1\n",
            "3\n",
            "6\n",
            "10\n",
            "15\n",
            "21\n",
            "28\n",
            "36\n",
            "45\n",
            "55\n",
            "66\n",
            "78\n",
            "91\n",
            "105\n",
            "120\n",
            "136\n",
            "153\n",
            "171\n",
            "190\n",
            "210\n",
            "231\n",
            "253\n",
            "276\n",
            "300\n",
            "325\n",
            "351\n",
            "378\n",
            "406\n",
            "435\n",
            "465\n",
            "496\n",
            "528\n",
            "561\n",
            "595\n",
            "630\n",
            "666\n",
            "703\n",
            "741\n",
            "780\n",
            "820\n",
            "861\n",
            "903\n",
            "946\n",
            "990\n",
            "1035\n",
            "1081\n",
            "1128\n",
            "1176\n",
            "1225\n",
            "1275\n",
            "1326\n",
            "1378\n",
            "1431\n",
            "1485\n",
            "1540\n",
            "1596\n",
            "1653\n",
            "1711\n",
            "1770\n",
            "1830\n",
            "1891\n",
            "1953\n",
            "2016\n",
            "2080\n",
            "2145\n",
            "2211\n",
            "2278\n",
            "2346\n",
            "2415\n",
            "2485\n",
            "2556\n",
            "2628\n",
            "2701\n",
            "2775\n",
            "2850\n",
            "2926\n",
            "3003\n",
            "3081\n",
            "3160\n",
            "3240\n",
            "3321\n",
            "3403\n",
            "3486\n",
            "3570\n",
            "3655\n",
            "3741\n",
            "3828\n",
            "3916\n",
            "4005\n",
            "4095\n",
            "4186\n",
            "4278\n",
            "4371\n",
            "4465\n",
            "4560\n",
            "4656\n",
            "4753\n",
            "4851\n",
            "4950\n",
            "5050\n"
          ]
        }
      ]
    }
  ]
}